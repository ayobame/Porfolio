{
 "cells": [
  {
   "cell_type": "code",
   "execution_count": 18,
   "metadata": {},
   "outputs": [],
   "source": [
    "import pandas as pd\n",
    "import numpy as np\n",
    "import sqlite3\n",
    "\n",
    "customer_csv_file_path = 'c:/Users/Awhy/OneDrive/Desktop/PARA/Project/PORTFOLIO/Repo/Porfolio/Sales Intelligence/Data/customer_data.csv'\n",
    "marketings_csv_file_path = 'c:/Users/Awhy/OneDrive/Desktop/PARA/Project/PORTFOLIO/Repo/Porfolio/Sales Intelligence/Data/marketing_data.csv'\n",
    "operational_csv_file_path = 'c:/Users/Awhy/OneDrive/Desktop/PARA/Project/PORTFOLIO/Repo/Porfolio/Sales Intelligence/Data/operational_data.csv'\n",
    "sales_data_csv_file_path = 'c:/Users/Awhy/OneDrive/Desktop/PARA/Project/PORTFOLIO/Repo/Porfolio/Sales Intelligence/Data/sales_data.csv'\n",
    "sales_team_data_csv_file_path = 'c:/Users/Awhy/OneDrive/Desktop/PARA/Project/PORTFOLIO/Repo/Porfolio/Sales Intelligence/Data/sales_team_data.csv'\n",
    "\n",
    "customer_data = pd.read_csv(customer_csv_file_path)\n",
    "marketings = pd.read_csv(marketings_csv_file_path)\n",
    "operational = pd.read_csv(operational_csv_file_path)\n",
    "sales_data = pd.read_csv(sales_data_csv_file_path)\n",
    "sales_team_data = pd.read_csv(sales_team_data_csv_file_path)\n"
   ]
  },
  {
   "cell_type": "code",
   "execution_count": 19,
   "metadata": {},
   "outputs": [],
   "source": [
    "# Connect to a new SQLite database (this will create the file if it does not exist)\n",
    "db_file_path = 'c:/Users/Awhy/OneDrive/Desktop/PARA/Project/PORTFOLIO/Repo/Porfolio/Sales Intelligence/Data/sales_data.db'\n",
    "conn = sqlite3.connect(db_file_path)"
   ]
  },
  {
   "cell_type": "code",
   "execution_count": 20,
   "metadata": {},
   "outputs": [
    {
     "name": "stderr",
     "output_type": "stream",
     "text": [
      "c:\\Python3.8\\lib\\site-packages\\pandas\\core\\generic.py:2779: UserWarning: The spaces in these column names will not be changed. In pandas versions < 0.14, spaces were converted to underscores.\n",
      "  sql.to_sql(\n"
     ]
    }
   ],
   "source": [
    "# Connect to a new SQLite database (this will create the file if it does not exist)\n",
    "conn = sqlite3.connect(db_file_path)\n",
    "\n",
    "# Write the data to a table in the SQLite database\n",
    "customer_data.to_sql('customers', conn, if_exists='replace', index=False)\n",
    "marketings.to_sql('marketings', conn, if_exists='replace', index=False)\n",
    "operational.to_sql('operational', conn, if_exists='replace', index=False)\n",
    "sales_data.to_sql('sales_data', conn, if_exists='replace', index=False)\n",
    "sales_team_data.to_sql('sales_team_data', conn, if_exists='replace', index=False)\n"
   ]
  },
  {
   "cell_type": "code",
   "execution_count": 22,
   "metadata": {},
   "outputs": [
    {
     "data": {
      "text/html": [
       "<div>\n",
       "<style scoped>\n",
       "    .dataframe tbody tr th:only-of-type {\n",
       "        vertical-align: middle;\n",
       "    }\n",
       "\n",
       "    .dataframe tbody tr th {\n",
       "        vertical-align: top;\n",
       "    }\n",
       "\n",
       "    .dataframe thead th {\n",
       "        text-align: right;\n",
       "    }\n",
       "</style>\n",
       "<table border=\"1\" class=\"dataframe\">\n",
       "  <thead>\n",
       "    <tr style=\"text-align: right;\">\n",
       "      <th></th>\n",
       "      <th>Customer ID</th>\n",
       "      <th>Customer Age</th>\n",
       "      <th>Location</th>\n",
       "      <th>Industry</th>\n",
       "      <th>Customer Since</th>\n",
       "    </tr>\n",
       "  </thead>\n",
       "  <tbody>\n",
       "    <tr>\n",
       "      <th>0</th>\n",
       "      <td>13936</td>\n",
       "      <td>38</td>\n",
       "      <td>Europe</td>\n",
       "      <td>Finance</td>\n",
       "      <td>2020-01-18 05:21:37</td>\n",
       "    </tr>\n",
       "    <tr>\n",
       "      <th>1</th>\n",
       "      <td>16275</td>\n",
       "      <td>35</td>\n",
       "      <td>North America</td>\n",
       "      <td>Retail</td>\n",
       "      <td>2020-02-18 01:26:44</td>\n",
       "    </tr>\n",
       "    <tr>\n",
       "      <th>2</th>\n",
       "      <td>14203</td>\n",
       "      <td>67</td>\n",
       "      <td>Europe</td>\n",
       "      <td>Technology</td>\n",
       "      <td>2020-05-08 17:29:01</td>\n",
       "    </tr>\n",
       "    <tr>\n",
       "      <th>3</th>\n",
       "      <td>12954</td>\n",
       "      <td>44</td>\n",
       "      <td>South America</td>\n",
       "      <td>Retail</td>\n",
       "      <td>2020-02-19 15:33:31</td>\n",
       "    </tr>\n",
       "    <tr>\n",
       "      <th>4</th>\n",
       "      <td>18596</td>\n",
       "      <td>42</td>\n",
       "      <td>Europe</td>\n",
       "      <td>Healthcare</td>\n",
       "      <td>2021-01-21 03:52:55</td>\n",
       "    </tr>\n",
       "  </tbody>\n",
       "</table>\n",
       "</div>"
      ],
      "text/plain": [
       "   Customer ID  Customer Age       Location    Industry       Customer Since\n",
       "0        13936            38         Europe     Finance  2020-01-18 05:21:37\n",
       "1        16275            35  North America      Retail  2020-02-18 01:26:44\n",
       "2        14203            67         Europe  Technology  2020-05-08 17:29:01\n",
       "3        12954            44  South America      Retail  2020-02-19 15:33:31\n",
       "4        18596            42         Europe  Healthcare  2021-01-21 03:52:55"
      ]
     },
     "execution_count": 22,
     "metadata": {},
     "output_type": "execute_result"
    }
   ],
   "source": [
    "# Verify the contents by reading from the database\n",
    "query = \"SELECT * FROM customers LIMIT 5;\"\n",
    "result = pd.read_sql_query(query, conn)\n",
    "\n",
    "result"
   ]
  }
 ],
 "metadata": {
  "kernelspec": {
   "display_name": "Python 3",
   "language": "python",
   "name": "python3"
  },
  "language_info": {
   "codemirror_mode": {
    "name": "ipython",
    "version": 3
   },
   "file_extension": ".py",
   "mimetype": "text/x-python",
   "name": "python",
   "nbconvert_exporter": "python",
   "pygments_lexer": "ipython3",
   "version": "3.8.10"
  }
 },
 "nbformat": 4,
 "nbformat_minor": 2
}
